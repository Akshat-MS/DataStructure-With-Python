{
 "cells": [
  {
   "cell_type": "markdown",
   "metadata": {},
   "source": [
    "# Length of longest consecutive ones (at most one swap between any 0 & 1)"
   ]
  },
  {
   "cell_type": "markdown",
   "metadata": {},
   "source": [
    "### Given a binary string A. It is allowed to do at most one swap between any 0 and 1. Find and return the length of the longest consecutive 1’s that can be achieved.\n",
    "\n",
    "#### Input Format \n",
    "- The only argument given is string A.\n",
    "\n",
    "#### Output Format \n",
    "- Return the length of the longest consecutive 1’s that can be achieved.\n",
    "\n",
    "#### Constraints -\n",
    "- 1 <= length of string <= 1000000\n",
    "- A contains only characters 0 and 1\n",
    "\n",
    "#### Examples -\n",
    "- **Input 1:**\n",
    "    - A = \"111000\"\n",
    "- **Output 1:**\n",
    "    - 3\n",
    "    \n",
    "    \n",
    "- **Input 2:**\n",
    "    - A = \"111011101\"\n",
    "- **Output 2:**\n",
    "    - 7"
   ]
  },
  {
   "cell_type": "code",
   "execution_count": 1,
   "metadata": {},
   "outputs": [
    {
     "name": "stdout",
     "output_type": "stream",
     "text": [
      "6\n"
     ]
    }
   ],
   "source": [
    "A = \"1111110\"\n",
    "\n",
    "lenStr = len(A)\n",
    "\n",
    "startInd = 0\n",
    "zeroCnt = 0\n",
    "window = 0\n",
    "\n",
    "cntOnes = 0\n",
    "\n",
    "for endInd in range(lenStr):\n",
    "    if A[endInd] =='0':\n",
    "        zeroCnt += 1\n",
    "    else:\n",
    "        cntOnes +=1\n",
    "\n",
    "    while zeroCnt > 1:\n",
    "        if A[startInd] == '0':\n",
    "            zeroCnt -=1\n",
    "        startInd += 1\n",
    "\n",
    "    if endInd - startInd +1 > window:\n",
    "        window = endInd -startInd +1\n",
    "\n",
    "if cntOnes < window:\n",
    "    window = cntOnes\n",
    "\n",
    "print(window)"
   ]
  },
  {
   "cell_type": "code",
   "execution_count": null,
   "metadata": {},
   "outputs": [],
   "source": []
  }
 ],
 "metadata": {
  "kernelspec": {
   "display_name": "Python 3",
   "language": "python",
   "name": "python3"
  },
  "language_info": {
   "codemirror_mode": {
    "name": "ipython",
    "version": 3
   },
   "file_extension": ".py",
   "mimetype": "text/x-python",
   "name": "python",
   "nbconvert_exporter": "python",
   "pygments_lexer": "ipython3",
   "version": "3.7.3"
  }
 },
 "nbformat": 4,
 "nbformat_minor": 2
}
