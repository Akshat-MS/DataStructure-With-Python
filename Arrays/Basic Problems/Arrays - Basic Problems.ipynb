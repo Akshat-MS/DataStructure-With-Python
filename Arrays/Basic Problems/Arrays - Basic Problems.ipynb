{
 "cells": [
  {
   "cell_type": "markdown",
   "metadata": {},
   "source": [
    "## Given an array of integers size N. Count that have atleast 1 element greater than itself. "
   ]
  },
  {
   "cell_type": "markdown",
   "metadata": {},
   "source": [
    "### Brute Force"
   ]
  },
  {
   "cell_type": "code",
   "execution_count": 1,
   "metadata": {},
   "outputs": [
    {
     "name": "stdout",
     "output_type": "stream",
     "text": [
      "Count  5\n"
     ]
    }
   ],
   "source": [
    "arr = [3,-2,6,8,4,8,5]\n",
    "\n",
    "n = len(arr)\n",
    "cnt = 0\n",
    "for i in range (n):\n",
    "    for j in range(n):\n",
    "        if arr[j] > arr[i]:\n",
    "            cnt += 1\n",
    "            break\n",
    "\n",
    "print(\"Count \", cnt)"
   ]
  },
  {
   "cell_type": "markdown",
   "metadata": {},
   "source": [
    "### Time Complexity = O(n*n)"
   ]
  },
  {
   "cell_type": "code",
   "execution_count": null,
   "metadata": {},
   "outputs": [],
   "source": []
  },
  {
   "cell_type": "markdown",
   "metadata": {},
   "source": [
    "### Max Element approach\n",
    "- Find max element in the array\n",
    "- Count no. of time max element represent in the array"
   ]
  },
  {
   "cell_type": "code",
   "execution_count": 4,
   "metadata": {},
   "outputs": [
    {
     "name": "stdout",
     "output_type": "stream",
     "text": [
      "Count  3\n"
     ]
    }
   ],
   "source": [
    "arr = [2,5,1,4,8,0,8,1,3,8]\n",
    "\n",
    "n = len(arr)\n",
    "\n",
    "maxNum = arr[0]\n",
    "\n",
    "for i in range(1,n):\n",
    "    if maxNum < arr[i]:\n",
    "        maxNum = arr[i]\n",
    "cnt = 0\n",
    "\n",
    "for j in range(n):\n",
    "    if maxNum == arr[j]:\n",
    "        cnt += 1\n",
    "\n",
    "print(\"Count \", cnt)"
   ]
  },
  {
   "cell_type": "markdown",
   "metadata": {},
   "source": [
    "### Time Complexity = O(n)"
   ]
  },
  {
   "cell_type": "code",
   "execution_count": null,
   "metadata": {},
   "outputs": [],
   "source": []
  },
  {
   "cell_type": "markdown",
   "metadata": {},
   "source": [
    "## Given an array of integers size N. Count no. of Arrays [i,j] such that arr[i] + arr[j] == k"
   ]
  },
  {
   "cell_type": "markdown",
   "metadata": {},
   "source": [
    "### Brute Force"
   ]
  },
  {
   "cell_type": "code",
   "execution_count": 7,
   "metadata": {},
   "outputs": [
    {
     "name": "stdout",
     "output_type": "stream",
     "text": [
      "1\n"
     ]
    }
   ],
   "source": [
    "arr = [3,-2,6,8,4,8,5]\n",
    "k = 10\n",
    "\n",
    "n = len(arr)\n",
    "count = 0\n",
    "\n",
    "for i in range(n):\n",
    "    for j in range(i+1,n):\n",
    "        if arr[i] + arr[j] == k:\n",
    "            count += 1\n",
    "\n",
    "print(count)\n",
    "        "
   ]
  },
  {
   "cell_type": "markdown",
   "metadata": {},
   "source": [
    "### Time Compexity = O(n*n)"
   ]
  },
  {
   "cell_type": "code",
   "execution_count": null,
   "metadata": {},
   "outputs": [],
   "source": []
  },
  {
   "cell_type": "markdown",
   "metadata": {},
   "source": [
    "## Given an array of integers size N. Need to reverse the Array."
   ]
  },
  {
   "cell_type": "code",
   "execution_count": 9,
   "metadata": {},
   "outputs": [
    {
     "name": "stdout",
     "output_type": "stream",
     "text": [
      "[10, 9, 7, 5, 4, 2, 6, -1, 3]\n"
     ]
    }
   ],
   "source": [
    "arr = [3,-1,6,2,4,5,7,9,10]\n",
    "\n",
    "n = len(arr)\n",
    "\n",
    "i = 0\n",
    "j = n-1\n",
    "\n",
    "while i<j:\n",
    "    arr[i] = arr[i] ^ arr[j]\n",
    "    arr[j] = arr[i] ^ arr[j]\n",
    "    arr[i] = arr[i] ^ arr[j]\n",
    "    \n",
    "    i += 1\n",
    "    j -= 1\n",
    "\n",
    "print(arr)"
   ]
  },
  {
   "cell_type": "markdown",
   "metadata": {},
   "source": [
    "### Time Complexity = O(n)"
   ]
  },
  {
   "cell_type": "code",
   "execution_count": null,
   "metadata": {},
   "outputs": [],
   "source": []
  }
 ],
 "metadata": {
  "kernelspec": {
   "display_name": "Python 3 (ipykernel)",
   "language": "python",
   "name": "python3"
  },
  "language_info": {
   "codemirror_mode": {
    "name": "ipython",
    "version": 3
   },
   "file_extension": ".py",
   "mimetype": "text/x-python",
   "name": "python",
   "nbconvert_exporter": "python",
   "pygments_lexer": "ipython3",
   "version": "3.7.3"
  }
 },
 "nbformat": 4,
 "nbformat_minor": 2
}
